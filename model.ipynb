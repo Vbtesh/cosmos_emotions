{
 "cells": [
  {
   "cell_type": "code",
   "execution_count": 284,
   "id": "0f093009",
   "metadata": {},
   "outputs": [],
   "source": [
    "import jax\n",
    "import jax.numpy as jnp\n",
    "from enum import IntEnum\n",
    "from memo import memo\n",
    "\n",
    "import matplotlib.pyplot as plt\n",
    "import seaborn as sns\n",
    "import pandas as pd\n",
    "\n",
    "from mpl_toolkits.axes_grid1 import make_axes_locatable\n",
    "from ipywidgets import interact, fixed\n",
    "import ipywidgets as widgets\n",
    "import warnings\n"
   ]
  },
  {
   "cell_type": "markdown",
   "id": "e9e98560",
   "metadata": {},
   "source": [
    "Auction valuation (making an estimate, taking emotions into account – plausible deniability) – Part II\n",
    "Now, imagine that you’re not buying the painting for yourself. Rather, you’re a valuations manager for an auction house.\n",
    "\n",
    "> Your job is now to tell the seller (your friend) how much you’d be willing to pay for the painting, given how much you think it’ll go for at auction tomorrow. You might model this as a simple point estimate (the painting is worth $10,000) or as a range, like a Gaussian, where you tell them the mean and variance (I think it’ll go for \\$10,000, but +/- \\$1K). \n",
    "\n",
    "Now, you might imagine taking into account at least two competing factors, both involving how your friend might feel:\n",
    "How much your friend thinks that you value their painting (as before), relative to how much they think its worth;\n",
    "How your friend will actually feel when the painting sells tomorrow. This could actually have two components:\n",
    "How surprised / disappointed your friend is by the actual amount they make;\n",
    "How surprised / disappointed your friend feels by how this sale reflects on their actual, internal estimate of the painting. This is where the ‘plausible deniability’ aspect comes into account – if you tell them a very wide range, its possible that (a) you think that the painting could be worth a lot, but (b) they could just seem to have a ‘fluke’ bad day tomorrow – saving face as to how much the painting really was worth.\n"
   ]
  },
  {
   "cell_type": "code",
   "execution_count": 307,
   "id": "b65c88b4",
   "metadata": {},
   "outputs": [
    {
     "data": {
      "text/plain": [
       "Array([[[0.06, 0.07, 0.06, 0.03, 0.01],\n",
       "        [0.03, 0.22, 0.03, 0.  , 0.  ]],\n",
       "\n",
       "       [[0.01, 0.03, 0.06, 0.07, 0.06],\n",
       "        [0.  , 0.  , 0.03, 0.22, 0.03]]], dtype=float32)"
      ]
     },
     "execution_count": 307,
     "metadata": {},
     "output_type": "execute_result"
    }
   ],
   "source": [
    "#class A(IntEnum): Low=0; Medium=1; High=2\n",
    "#class Friend(IntEnum): Indiferent=0; Friend=1\n",
    "\n",
    "class Confidence(IntEnum): Low=0; High=1\n",
    "class Quality(IntEnum): Low=0; High=1\n",
    "\n",
    "offers = 100*jnp.linspace(1, 5, num=5)\n",
    "\n",
    "@jax.jit\n",
    "def price_given_quality(q):\n",
    "    return jnp.array([200, 400])[q]\n",
    "\n",
    "@jax.jit\n",
    "def uncertainty_given_confidence(c):\n",
    "    return 100*jnp.array([1.5, .5])[c]\n",
    "\n",
    "@jax.jit\n",
    "def offer_given_confidence_quality(o, c, q):\n",
    "    return jax.scipy.stats.norm.pdf(o, loc=price_given_quality(q), scale=uncertainty_given_confidence(c))\n",
    "\n",
    "p_offer = jax.vmap(\n",
    "    jax.vmap(offer_given_confidence_quality, in_axes=(None, 0, None)), in_axes=(None, None, 0)\n",
    ")(offers, jnp.array([0, 1]), jnp.array([0, 1]))\n",
    "p_offer /= p_offer.sum()\n",
    "p_offer.round(2)"
   ]
  },
  {
   "cell_type": "code",
   "execution_count": 308,
   "id": "9101c1b4",
   "metadata": {},
   "outputs": [
    {
     "name": "stdout",
     "output_type": "stream",
     "text": [
      "[100. 200. 300. 400. 500.]\n"
     ]
    },
    {
     "data": {
      "text/plain": [
       "Array([0.35      , 0.42999998, 0.19      , 0.02      , 0.01      ],      dtype=float32)"
      ]
     },
     "execution_count": 308,
     "metadata": {},
     "output_type": "execute_result"
    }
   ],
   "source": [
    "# type: ignore\n",
    "\n",
    "@jax.jit\n",
    "def get_beta_prior(q, case):\n",
    "    return jnp.array([\n",
    "        [1, 1],  # Unsure\n",
    "        [4, 1],  # Low competence / Bad quality\n",
    "        [1, 4],  # High competence / Good quality\n",
    "    ])[case, q]\n",
    "\n",
    "@jax.jit\n",
    "def get_min(a, b):\n",
    "    return jnp.minimum(a, b)\n",
    "\n",
    "@jax.jit\n",
    "def get_max(a, b):\n",
    "    return jnp.maximum(a, b)\n",
    "\n",
    "@memo\n",
    "def auctioneer_makes_offer[o: offers, c: Confidence, q: Quality](prior_q, prior_c, honesty, trustworthiness, perceived_care, disappointment, elation):\n",
    "\n",
    "    auctioneer: knows(c, q)\n",
    "\n",
    "    auctioneer: thinks [\n",
    "        painter: knows(q),\n",
    "        painter: thinks [\n",
    "            auctioneer: given(q in Quality, wpp=get_beta_prior(q, prior_q)),\n",
    "            auctioneer: given(c in Confidence, wpp=get_beta_prior(c, prior_c)),\n",
    "            auctioneer: given(o in offers, wpp=offer_given_confidence_quality(o, c, q))\n",
    "        ],\n",
    "        #painter: given(observed_q in Quality, wpp=Pr[auctioneer.q == observed_q])\n",
    "    ]\n",
    "    auctioneer: chooses(o in offers, wpp=exp(\n",
    "                        + honesty * log(offer_given_confidence_quality(o, c, q)) # Honesty / naive response\n",
    "                        + imagine [\n",
    "                            painter: observes [auctioneer.o] is o,\n",
    "                            + trustworthiness * log(painter[Pr[auctioneer.q == q]])\n",
    "                            + perceived_care * log(painter[E[auctioneer.q]])\n",
    "                            - disappointment * log(abs(get_min(1e-8, q - painter[E[auctioneer.q]])))\n",
    "                            + elation * log(get_max(1e-8, q - painter[E[auctioneer.q]]))\n",
    "                        ]\n",
    "                    ))\n",
    "\n",
    "    return Pr[auctioneer.o == o]\n",
    "\n",
    "honesty = 1\n",
    "trustworthiness = 1\n",
    "perceived_care = 0\n",
    "disappointment = 0\n",
    "elation = 0\n",
    "prior_quality = 0\n",
    "prior_confidence = 0\n",
    "print(offer)\n",
    "auctioneer_makes_offer(prior_quality, prior_confidence, honesty, trustworthiness, perceived_care, disappointment, elation)[:, Confidence.Low, Quality.Low].round(2)\n"
   ]
  },
  {
   "cell_type": "code",
   "execution_count": 319,
   "id": "ef46d893",
   "metadata": {},
   "outputs": [
    {
     "data": {
      "application/vnd.jupyter.widget-view+json": {
       "model_id": "b6cdc26bb7db4ed4945df202ced8b7ae",
       "version_major": 2,
       "version_minor": 0
      },
      "text/plain": [
       "interactive(children=(Dropdown(description='Prior Quality:', layout=Layout(width='50%'), options=(('Unsure (0)…"
      ]
     },
     "metadata": {},
     "output_type": "display_data"
    },
    {
     "data": {
      "text/plain": [
       "<function __main__.show_interactive_plot(prior_quality, prior_confidence, honesty, trustworthiness, perceived_care, disappointment, elation)>"
      ]
     },
     "execution_count": 319,
     "metadata": {},
     "output_type": "execute_result"
    }
   ],
   "source": [
    "\n",
    "\n",
    "\n",
    "# Create custom widgets with sufficient width for descriptions\n",
    "def create_labeled_dropdown(options, description, value=None):\n",
    "    # Convert options to display both value and name\n",
    "    labeled_options = [(f\"{option.name} ({option.value})\", option) for option in options]\n",
    "    \n",
    "    # Create dropdown with style to accommodate longer descriptions\n",
    "    dropdown = widgets.Dropdown(\n",
    "        options=labeled_options, \n",
    "        description=description,\n",
    "        value=value,\n",
    "        style={'description_width': 'auto'}  # This allows description to use needed space\n",
    "    )\n",
    "    \n",
    "    # Set layout to provide more space\n",
    "    dropdown.layout.width = '50%'  # Use full width\n",
    "    \n",
    "    return dropdown\n",
    "\n",
    "class QualityBelief(IntEnum): Unsure=0; Low=1; High=2\n",
    "class ConfidenceBelief(IntEnum): Unsure=0; Low=1; High=2\n",
    "prior_quality_widget = create_labeled_dropdown(QualityBelief, \"Prior Quality:\", value=Quality.Low)\n",
    "prior_quality_widget.layout.width = '50%'\n",
    "prior_confidence_widget = create_labeled_dropdown(ConfidenceBelief, \"Prior Confidence:\", value=Confidence.Low)\n",
    "prior_confidence_widget.layout.width = '50%'\n",
    "\n",
    "honesty_widget = widgets.FloatSlider(value=1, min=0, max=2, step=0.1, description='Honesty:', style={'description_width': 'auto'})\n",
    "honesty_widget.layout.width = '50%'\n",
    "trustworthiness_widget = widgets.FloatSlider(value=1, min=0, max=2, step=0.1, description='Trustworthiness:', style={'description_width': 'auto'})\n",
    "trustworthiness_widget.layout.width = '50%'\n",
    "perceived_care_widget = widgets.FloatSlider(value=0, min=0, max=2, step=0.1, description='Perceived Care', style={'description_width': 'auto'})\n",
    "perceived_care_widget.layout.width = '50%'\n",
    "disappointment_widget = widgets.FloatSlider(value=0, min=0, max=2, step=0.1, description='Disappointment:', style={'description_width': 'auto'})\n",
    "disappointment_widget.layout.width = '50%'\n",
    "elation_widget = widgets.FloatSlider(value=0, min=0, max=2, step=0.1, description='Elation:', style={'description_width': 'auto'})\n",
    "elation_widget.layout.width = '50%'\n",
    "\n",
    "\n",
    "def show_interactive_plot(prior_quality, prior_confidence, honesty, trustworthiness, perceived_care, disappointment, elation):\n",
    "    plt.close('all')\n",
    "\n",
    "\n",
    "    fig , axes = plt.subplots(len(Confidence), len(Quality), figsize=(8, 7), sharex=True, sharey=True)\n",
    "\n",
    "    for c in Confidence:\n",
    "        for q in Quality:\n",
    "            ax = axes[c, q]\n",
    "            df = pd.DataFrame({\n",
    "                'Offer': offers.round(),\n",
    "                'Probability': auctioneer_makes_offer(prior_quality, prior_confidence, honesty, trustworthiness, perceived_care, disappointment, elation)[:, c, q]\n",
    "            })\n",
    "            sns.barplot(data=df, x='Offer', y='Probability', ax=ax)\n",
    "            #ax.set_title(f'Confidence: {Confidence(c).name}, Quality: {Quality(q).name}')\n",
    "            ax.set_ylim(0, 1)\n",
    "            ax.set_xlabel('Offer ($)', fontsize=15)\n",
    "            ax.tick_params(axis='both', which='major', labelsize=17)\n",
    "            with warnings.catch_warnings():\n",
    "                warnings.simplefilter(\"ignore\")\n",
    "                ax.set_xticklabels(offers.astype(int), rotation=0)\n",
    "\n",
    "\n",
    "\n",
    "            ax.set_ylabel(f'Auctioneer confidence\\n{c.name.title()}', fontsize=17)   \n",
    "            if c == 0:\n",
    "                ax.set_title(f'Painting quality: {q.name.title()}', fontsize=17)\n",
    "\n",
    "    fig.suptitle('Auctioneer p(offer | confidence, quality)', fontsize=20)\n",
    "    sns.despine()\n",
    "    plt.tight_layout()\n",
    "    plt.show()\n",
    "\n",
    "def show_interactive_plot_fixed(prior_quality, honesty, trustworthiness, perceived_care, disappointment, elation):\n",
    "    show_interactive_plot(prior_quality, 0, honesty, trustworthiness, perceived_care, disappointment, elation)\n",
    "interact(\n",
    "    show_interactive_plot,\n",
    "    prior_quality=prior_quality_widget,\n",
    "    prior_confidence=prior_confidence_widget,\n",
    "    honesty=honesty_widget,\n",
    "    trustworthiness=trustworthiness_widget,\n",
    "    perceived_care=perceived_care_widget,\n",
    "    disappointment=disappointment_widget,\n",
    "    elation=elation_widget\n",
    ")\n"
   ]
  },
  {
   "cell_type": "code",
   "execution_count": 361,
   "id": "ababc8de",
   "metadata": {},
   "outputs": [
    {
     "data": {
      "image/png": "[encoded data removed]",
      "text/plain": [
       "<Figure size 800x700 with 4 Axes>"
      ]
     },
     "execution_count": 361,
     "metadata": {},
     "output_type": "execute_result"
    }
   ],
   "source": [
    "\n",
    "\n",
    "def plot_p_offers(honesty, trustworthiness, perceived_care, disappointment, elation, save_fig=False, close_fig=False):\n",
    "    fig, axes = plt.subplots(2, 2, figsize=(8, 7), sharex=True, sharey=True)\n",
    "    \n",
    "    for c in Confidence:\n",
    "        for q in Quality:\n",
    "            ax = axes[c, q]\n",
    "            df = pd.DataFrame({\n",
    "                'Offer': offers.round(),\n",
    "                'Probability': auctioneer_makes_offer(0, 0, honesty, trustworthiness, perceived_care, disappointment, elation)[:, c, q]\n",
    "            })\n",
    "            sns.barplot(data=df, x='Offer', y='Probability', ax=ax)\n",
    "            #ax.set_title(f'Confidence: {Confidence(c).name}, Quality: {Quality(q).name}')\n",
    "            ax.set_ylim(0, 1)\n",
    "            ax.set_xlabel('Offer ($)', fontsize=15)\n",
    "            ax.tick_params(axis='both', which='major', labelsize=17)\n",
    "            with warnings.catch_warnings():\n",
    "                warnings.simplefilter(\"ignore\")\n",
    "                ax.set_xticklabels(offers.astype(int), rotation=0)\n",
    "\n",
    "            ax.set_ylabel(f'Auctioneer confidence\\n{c.name.title()}', fontsize=17)   \n",
    "            if c == 0:\n",
    "                ax.set_title(f'Painting quality: {q.name.title()}', fontsize=17)\n",
    "\n",
    "    fig.suptitle(f'Auctioneer p(offer | confidence, quality)', fontsize=20)\n",
    "    sns.despine()\n",
    "    plt.tight_layout()\n",
    "\n",
    "    if save_fig:\n",
    "        fig.savefig(f'figures/{save_fig}.png', dpi=300)\n",
    "    if close_fig:\n",
    "        plt.close(fig)\n",
    "    else:\n",
    "        plt.show()\n",
    "    \n",
    "    return fig\n",
    "\n",
    "# Base case\n",
    "honesty = 1\n",
    "trustworthiness = 0\n",
    "perceived_care = 0\n",
    "disappointment = 0\n",
    "elation = 0\n",
    "fig_name = f\"honesty={honesty}_trustworthiness={trustworthiness}_perceivedcare={perceived_care}_disappointment={disappointment}_elation={elation}\"\n",
    "plot_p_offers(honesty, trustworthiness, perceived_care, disappointment, elation, save_fig=fig_name, close_fig=True)\n",
    "\n",
    "# Trustworthy case\n",
    "honesty = 1\n",
    "trustworthiness = 0\n",
    "perceived_care = 2\n",
    "disappointment = 2\n",
    "elation = 2\n",
    "fig_name = f\"honesty={honesty}_trustworthiness={trustworthiness}_perceivedcare={perceived_care}_disappointment={disappointment}_elation={elation}\"\n",
    "plot_p_offers(honesty, trustworthiness, perceived_care, disappointment, elation, save_fig=fig_name, close_fig=True)"
   ]
  },
  {
   "cell_type": "code",
   "execution_count": null,
   "id": "daa44d4b",
   "metadata": {},
   "outputs": [],
   "source": []
  }
 ],
 "metadata": {
  "kernelspec": {
   "display_name": "base",
   "language": "python",
   "name": "python3"
  },
  "language_info": {
   "codemirror_mode": {
    "name": "ipython",
    "version": 3
   },
   "file_extension": ".py",
   "mimetype": "text/x-python",
   "name": "python",
   "nbconvert_exporter": "python",
   "pygments_lexer": "ipython3",
   "version": "3.12.4"
  }
 },
 "nbformat": 4,
 "nbformat_minor": 5
}
