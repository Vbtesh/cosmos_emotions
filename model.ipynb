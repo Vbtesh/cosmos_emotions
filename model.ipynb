{
 "cells": [
  {
   "cell_type": "code",
   "execution_count": 27,
   "id": "0f093009",
   "metadata": {},
   "outputs": [],
   "source": [
    "import jax\n",
    "import jax.numpy as jnp\n",
    "from enum import IntEnum\n",
    "from memo import memo\n",
    "\n",
    "import matplotlib.pyplot as plt\n",
    "import seaborn as sns\n",
    "import pandas as pd\n"
   ]
  },
  {
   "cell_type": "markdown",
   "id": "e9e98560",
   "metadata": {},
   "source": [
    "Auction valuation (making an estimate, taking emotions into account – plausible deniability) – Part II\n",
    "Now, imagine that you’re not buying the painting for yourself. Rather, you’re a valuations manager for an auction house.\n",
    "\n",
    "> Your job is now to tell the seller (your friend) how much you’d be willing to pay for the painting, given how much you think it’ll go for at auction tomorrow. You might model this as a simple point estimate (the painting is worth $10,000) or as a range, like a Gaussian, where you tell them the mean and variance (I think it’ll go for \\$10,000, but +/- \\$1K). \n",
    "\n",
    "Now, you might imagine taking into account at least two competing factors, both involving how your friend might feel:\n",
    "How much your friend thinks that you value their painting (as before), relative to how much they think its worth;\n",
    "How your friend will actually feel when the painting sells tomorrow. This could actually have two components:\n",
    "How surprised / disappointed your friend is by the actual amount they make;\n",
    "How surprised / disappointed your friend feels by how this sale reflects on their actual, internal estimate of the painting. This is where the ‘plausible deniability’ aspect comes into account – if you tell them a very wide range, its possible that (a) you think that the painting could be worth a lot, but (b) they could just seem to have a ‘fluke’ bad day tomorrow – saving face as to how much the painting really was worth.\n"
   ]
  },
  {
   "cell_type": "code",
   "execution_count": null,
   "id": "b65c88b4",
   "metadata": {},
   "outputs": [],
   "source": [
    "#class A(IntEnum): Low=0; Medium=1; High=2\n",
    "#class Friend(IntEnum): Indiferent=0; Friend=1\n",
    "\n",
    "class Competence(IntEnum): Low=0; High=1\n",
    "class Quality(IntEnum): Low=0; High=1\n",
    "\n",
    "offers = 100*jnp.linspace(1, 5, num=5)\n",
    "\n",
    "@jax.jit\n",
    "def price_given_quality(q):\n",
    "    return jnp.array([200, 400])[q]\n",
    "\n",
    "@jax.jit\n",
    "def uncertainty_given_competence(c):\n",
    "    return 100*jnp.array([1.0, .5])[c]\n",
    "\n",
    "@jax.jit\n",
    "def offer_given_competence_quality(o, c, q):\n",
    "    return jax.scipy.stats.norm.pdf(o, loc=price_given_quality(q), scale=uncertainty_given_competence(c))\n"
   ]
  },
  {
   "cell_type": "code",
   "execution_count": 173,
   "id": "9101c1b4",
   "metadata": {},
   "outputs": [
    {
     "name": "stdout",
     "output_type": "stream",
     "text": [
      "[100. 200. 300. 400. 500.]\n"
     ]
    },
    {
     "data": {
      "text/plain": [
       "Array([0.01      , 0.02      , 0.19999999, 0.38      , 0.39      ],      dtype=float32)"
      ]
     },
     "execution_count": 173,
     "metadata": {},
     "output_type": "execute_result"
    }
   ],
   "source": [
    "# type: ignore\n",
    "\n",
    "@jax.jit\n",
    "def get_beta_prior(q, case):\n",
    "    return jnp.array([\n",
    "        [1, 1],  # Unsure\n",
    "        [4, 1],  # Low competence / Bad quality\n",
    "        [1, 4],  # High competence / Good quality\n",
    "    ])[case, q]\n",
    "\n",
    "@jax.jit\n",
    "def get_min(a, b):\n",
    "    return jnp.minimum(a, b)\n",
    "\n",
    "@jax.jit\n",
    "def get_max(a, b):\n",
    "    return jnp.maximum(a, b)\n",
    "\n",
    "@memo\n",
    "def auctioneer_makes_offer[o: offers, c: Competence, q: Quality](prior_q, prior_c, honesty, care, disappointment, elation):\n",
    "\n",
    "    auctioneer: knows(c, q)\n",
    "\n",
    "    auctioneer: thinks [\n",
    "        painter: thinks [\n",
    "            auctioneer: given(q in Quality, wpp=get_beta_prior(q, prior_q)),\n",
    "            auctioneer: given(c in Competence, wpp=get_beta_prior(c, prior_c)),\n",
    "            auctioneer: given(o in offers, wpp=offer_given_competence_quality(o, c, q))\n",
    "        ]\n",
    "    ]\n",
    "    auctioneer: chooses(o in offers, wpp=exp(\n",
    "                        + honesty * log(offer_given_competence_quality(o, c, q)) # Honesty / naive response\n",
    "                        + imagine [\n",
    "                            painter: observes [auctioneer.o] is o,\n",
    "                            + care * log(painter[E[auctioneer.q]])\n",
    "                            - disappointment * log(abs(get_min(1e-8, q - painter[E[auctioneer.q]])))\n",
    "                            + elation * log(get_max(1e-8, q - painter[E[auctioneer.q]]))\n",
    "                        ])\n",
    "                    )\n",
    "\n",
    "    return Pr[auctioneer.o == o]\n",
    "\n",
    "honesty = 0\n",
    "care = 1\n",
    "disappointment = 0\n",
    "elation = 0\n",
    "prior_quality = 0\n",
    "prior_competence = 0\n",
    "print(offer)\n",
    "auctioneer_makes_offer(prior_quality, prior_competence, honesty, care, disappointment, elation)[:, Competence.High, Quality.Low].round(2)\n"
   ]
  },
  {
   "cell_type": "code",
   "execution_count": null,
   "id": "7e3aefae",
   "metadata": {},
   "outputs": [],
   "source": []
  },
  {
   "cell_type": "code",
   "execution_count": null,
   "id": "97ad01f2",
   "metadata": {},
   "outputs": [],
   "source": []
  },
  {
   "cell_type": "code",
   "execution_count": null,
   "id": "1b214f9c",
   "metadata": {},
   "outputs": [],
   "source": [
    "# type: ignore\n",
    "\n",
    "@jax.jit\n",
    "def get_beta_prior(q, case):\n",
    "    return jnp.array([\n",
    "        [1, 1],  # Unsure\n",
    "        [4, 1],  # Low competence / Bad quality\n",
    "        [1, 4],  # High competence / Good quality\n",
    "    ])[case, q]\n",
    "\n",
    "widths = jnp.array([0.2, 1.0])\n",
    "\n",
    "def offer_given_width_competence_quality(o, q):\n",
    "    return jax.scipy.stats.norm.pdf(o, loc=price_given_quality(q), scale=.5)\n",
    "\n",
    "def width_given_competence(w, c):\n",
    "    return jnp.array([0.2, 1.0])[c]\n",
    "\n",
    "\n",
    "def offer_given_competence_quality():\n",
    "    return \n",
    "@memo\n",
    "def auctioneer_makes_offer[o: offers, w: widths, c: Competence, q: Quality](prior_q, prior_c, honesty=1, quality_persuasion=1, competence_persuasion=1):\n",
    "\n",
    "    auctioneer: knows(c, q)\n",
    "\n",
    "    auctioneer: thinks [\n",
    "        painter: thinks [\n",
    "            auctioneer: given(q in Quality, wpp=get_beta_prior(q, prior_q)),\n",
    "            auctioneer: given(c in Competence, wpp=get_beta_prior(c, prior_c)),\n",
    "            auctioneer: given(o in offers, wpp=offer_given_competence_quality(o, c, q))\n",
    "        ]\n",
    "    ]\n",
    "    auctioneer: chooses(o in offers, wpp=exp(\n",
    "                        + honesty * log(offer_given_competence_quality(o, c, q)) # Honesty / naive response\n",
    "                        + imagine [\n",
    "                            painter: observes [auctioneer.o] is o,\n",
    "                            + quality_persuasion * log(painter[Pr[auctioneer.q == {Quality.High}]])\n",
    "                            + competence_persuasion * log(painter[Pr[auctioneer.c == {Competence.High}]])\n",
    "                        ])\n",
    "                    )\n",
    "\n",
    "    return Pr[auctioneer.o == o]"
   ]
  },
  {
   "cell_type": "markdown",
   "id": "8a108f8a",
   "metadata": {},
   "source": [
    "## Who knows what?\n",
    "\n",
    "Does the auctioneer think that:\n",
    "\n",
    "1. the painter is certain / uncertain about the quality? Yes\n",
    "\n",
    "If painter the is certain about the quality being high:\n",
    "\n",
    "1. If offer is low and confident (100 $\\pm$ 10) then the painter is devastated (low valence, high arousal) => Large negative update\n",
    "2. If offer is low and not confident (100 $\\pm$ 100) then the painter is (low valence, low arousal) => Small negative update\n",
    "3. If offer is high and confident (300 $\\pm$ 10) then the painter is happy (high valence, medium arousal) => Small Update\n",
    "4. If offer is high and not confident (300 $\\pm$ 100) then the painter is happy (high valence, low arousal) => Smaller Update"
   ]
  }
 ],
 "metadata": {
  "kernelspec": {
   "display_name": "base",
   "language": "python",
   "name": "python3"
  },
  "language_info": {
   "codemirror_mode": {
    "name": "ipython",
    "version": 3
   },
   "file_extension": ".py",
   "mimetype": "text/x-python",
   "name": "python",
   "nbconvert_exporter": "python",
   "pygments_lexer": "ipython3",
   "version": "3.12.4"
  }
 },
 "nbformat": 4,
 "nbformat_minor": 5
}
